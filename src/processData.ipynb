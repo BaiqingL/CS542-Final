{
 "cells": [
  {
   "cell_type": "code",
   "execution_count": 1,
   "id": "persistent-madagascar",
   "metadata": {},
   "outputs": [],
   "source": [
    "# Make some imports\n",
    "\n",
    "import numpy as np\n",
    "import pandas as pd\n",
    "from pandas import DataFrame\n",
    "from collections import defaultdict\n",
    "import pickle\n",
    "import sklearn as sk\n",
    "from sklearn.model_selection import train_test_split"
   ]
  },
  {
   "cell_type": "code",
   "execution_count": 2,
   "id": "european-blogger",
   "metadata": {},
   "outputs": [
    {
     "name": "stdout",
     "output_type": "stream",
     "text": [
      "     Country name  year  Life Ladder  Log GDP per capita  Social support  \\\n",
      "0     Afghanistan  2008        3.724               7.370           0.451   \n",
      "1     Afghanistan  2009        4.402               7.540           0.552   \n",
      "2     Afghanistan  2010        4.758               7.647           0.539   \n",
      "3     Afghanistan  2011        3.832               7.620           0.521   \n",
      "4     Afghanistan  2012        3.783               7.705           0.521   \n",
      "...           ...   ...          ...                 ...             ...   \n",
      "1944     Zimbabwe  2016        3.735               7.984           0.768   \n",
      "1945     Zimbabwe  2017        3.638               8.016           0.754   \n",
      "1946     Zimbabwe  2018        3.616               8.049           0.775   \n",
      "1947     Zimbabwe  2019        2.694               7.950           0.759   \n",
      "1948     Zimbabwe  2020        3.160               7.829           0.717   \n",
      "\n",
      "      Healthy life expectancy at birth  Freedom to make life choices  \\\n",
      "0                                50.80                         0.718   \n",
      "1                                51.20                         0.679   \n",
      "2                                51.60                         0.600   \n",
      "3                                51.92                         0.496   \n",
      "4                                52.24                         0.531   \n",
      "...                                ...                           ...   \n",
      "1944                             54.40                         0.733   \n",
      "1945                             55.00                         0.753   \n",
      "1946                             55.60                         0.763   \n",
      "1947                             56.20                         0.632   \n",
      "1948                             56.80                         0.643   \n",
      "\n",
      "      Generosity  Perceptions of corruption  Positive affect  Negative affect  \n",
      "0          0.168                      0.882            0.518            0.258  \n",
      "1          0.190                      0.850            0.584            0.237  \n",
      "2          0.121                      0.707            0.618            0.275  \n",
      "3          0.162                      0.731            0.611            0.267  \n",
      "4          0.236                      0.776            0.710            0.268  \n",
      "...          ...                        ...              ...              ...  \n",
      "1944      -0.095                      0.724            0.738            0.209  \n",
      "1945      -0.098                      0.751            0.806            0.224  \n",
      "1946      -0.068                      0.844            0.710            0.212  \n",
      "1947      -0.064                      0.831            0.716            0.235  \n",
      "1948      -0.009                      0.789            0.703            0.346  \n",
      "\n",
      "[1949 rows x 11 columns]\n"
     ]
    }
   ],
   "source": [
    "world_happiness = pd.read_csv ('../data/world-happiness-report.csv')\n",
    "world_happiness_shape = world_happiness.shape\n",
    "print(world_happiness)"
   ]
  },
  {
   "cell_type": "code",
   "execution_count": 3,
   "id": "impaired-bleeding",
   "metadata": {},
   "outputs": [],
   "source": [
    "# there are 373 null values in world_happiness and we currently find which country the null value belongs to \n",
    "# and replace it with the mean of the column of that country.\n",
    "\n",
    "# 1. create a dictionary with keys of countries and values of their data:\n",
    "\n",
    "world_happiness_dict = defaultdict()\n",
    "for row in range(world_happiness_shape[0]):\n",
    "    value = world_happiness.loc[row].tolist()\n",
    "    keys = world_happiness_dict.keys()\n",
    "    current_country = world_happiness.loc[row][0]\n",
    "    if (current_country in world_happiness_dict.keys()):\n",
    "        world_happiness_dict[current_country].append(value[1:])\n",
    "    else:\n",
    "        world_happiness_dict[current_country] = [value[1:]]"
   ]
  },
  {
   "cell_type": "code",
   "execution_count": 4,
   "id": "military-victoria",
   "metadata": {},
   "outputs": [
    {
     "name": "stdout",
     "output_type": "stream",
     "text": [
      "the countries with only one row of data are: ['Cuba', 'Guyana', 'Maldives', 'Oman', 'Suriname']\n",
      "We delete these 5\n"
     ]
    }
   ],
   "source": [
    "# We delte the countries with only one row of values, for which we cannot find the current column mean. \n",
    "country_with_one_row_data = []\n",
    "for country in world_happiness_dict.keys():\n",
    "    if len(world_happiness_dict.get(country)) == 1:\n",
    "        country_with_one_row_data.append(country)\n",
    "print(\"the countries with only one row of data are:\", country_with_one_row_data)\n",
    "print(\"We delete these 5\")\n",
    "for country in country_with_one_row_data:\n",
    "    world_happiness_dict.pop(country, None)"
   ]
  },
  {
   "cell_type": "code",
   "execution_count": 5,
   "id": "insured-forestry",
   "metadata": {},
   "outputs": [],
   "source": [
    "# 2. find all \"nan\" value and replace it with the current mean of the column of the country:\n",
    "# traverse all the keys in the dictionary and for each country, \n",
    "filled_data = defaultdict()\n",
    "for country in world_happiness_dict.keys():\n",
    "    df = pd.DataFrame(world_happiness_dict.get(country))\n",
    "    filled_df = df.fillna(df.mean())\n",
    "    if filled_df.isnull().values.any():\n",
    "        filled_df = df.fillna(0)\n",
    "    filled_data[country] = filled_df\n",
    "            "
   ]
  },
  {
   "cell_type": "code",
   "execution_count": 6,
   "id": "czech-jacket",
   "metadata": {},
   "outputs": [
    {
     "name": "stdout",
     "output_type": "stream",
     "text": [
      "161\n",
      "Training data dimensions:  (1515, 10)\n",
      "Testing data dimensions:  (429, 10)\n"
     ]
    }
   ],
   "source": [
    "#3. construct a dataframe to extract 80% of the data as the training data and 20% as the testing data. \n",
    "# There are 166 countries within the dataset\n",
    "# Within the dataset, there are in total 1949 data entries\n",
    "\n",
    "print(len(filled_data.keys()))\n",
    "total = 0\n",
    "\n",
    "\n",
    "training_set = []\n",
    "testing_set = []\n",
    "\n",
    "for country in filled_data.keys():\n",
    "    total_data = filled_data.get(country)\n",
    "    train, test = train_test_split(total_data, test_size=0.2, random_state=50, shuffle=True)\n",
    "\n",
    "    training_set.append(train)\n",
    "    testing_set.append(test)\n",
    "\n",
    "training_data = pd.concat(training_set)\n",
    "testing_data = pd.concat(testing_set)\n",
    "\n",
    "print(\"Training data dimensions: \", training_data.shape)\n",
    "print(\"Testing data dimensions: \", testing_data.shape)"
   ]
  },
  {
   "cell_type": "code",
   "execution_count": 7,
   "id": "suffering-egypt",
   "metadata": {},
   "outputs": [
    {
     "name": "stdout",
     "output_type": "stream",
     "text": [
      "False\n",
      "False\n"
     ]
    }
   ],
   "source": [
    "print(training_data.isnull().values.any())\n",
    "print(testing_data.isnull().values.any())"
   ]
  },
  {
   "cell_type": "code",
   "execution_count": 8,
   "id": "threatened-sharing",
   "metadata": {},
   "outputs": [],
   "source": [
    "training_data.to_pickle(\"./train.pkl\")\n",
    "testing_data.to_pickle(\"./test.pkl\")"
   ]
  }
 ],
 "metadata": {
  "kernelspec": {
   "display_name": "Python 3",
   "language": "python",
   "name": "python3"
  },
  "language_info": {
   "codemirror_mode": {
    "name": "ipython",
    "version": 3
   },
   "file_extension": ".py",
   "mimetype": "text/x-python",
   "name": "python",
   "nbconvert_exporter": "python",
   "pygments_lexer": "ipython3",
   "version": "3.9.5"
  }
 },
 "nbformat": 4,
 "nbformat_minor": 5
}
