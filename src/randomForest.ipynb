{
 "cells": [
  {
   "cell_type": "code",
   "execution_count": 1,
   "id": "novel-going",
   "metadata": {},
   "outputs": [],
   "source": [
    "# Make needed imports\n",
    "import numpy as np\n",
    "import matplotlib.pyplot as plt\n",
    "import pandas as pd\n",
    "import math\n",
    "import graphviz\n",
    "from sklearn import tree\n",
    "from sklearn.ensemble import RandomForestRegressor"
   ]
  },
  {
   "cell_type": "code",
   "execution_count": 2,
   "id": "compliant-sacrifice",
   "metadata": {},
   "outputs": [],
   "source": [
    "# Load train and testing data\n",
    "training_data = pd.read_pickle(\"train.pkl\")\n",
    "testing_data = pd.read_pickle(\"test.pkl\")"
   ]
  },
  {
   "cell_type": "code",
   "execution_count": 3,
   "id": "faced-tribune",
   "metadata": {},
   "outputs": [],
   "source": [
    "# Seperate training X and Y values\n",
    "train_X = training_data.iloc[:, 2:9].values\n",
    "train_Y = training_data.iloc[:, 1].values"
   ]
  },
  {
   "cell_type": "code",
   "execution_count": 4,
   "id": "sporting-march",
   "metadata": {},
   "outputs": [],
   "source": [
    "regressor = RandomForestRegressor(n_estimators = 200, max_leaf_nodes = 80, bootstrap = False)\n",
    "  \n",
    "# Fit the regressor with x and y data\n",
    "regressor.fit(train_X, train_Y) \n",
    "\n",
    "# Load testing values\n",
    "test_X = testing_data.iloc[:, 2:9].values\n",
    "test_Y = testing_data.iloc[:, 1].values\n",
    "\n",
    "# Predict with testing X\n",
    "predict_Y = regressor.predict(test_X)\n",
    "\n",
    "# Compute loss\n",
    "loss = []\n",
    "for i in range(len(test_Y)):\n",
    "    dif = (abs(float(test_Y[i] - predict_Y[i])) / float(test_Y[i])) * 100\n",
    "    loss.append(dif)\n",
    "\n",
    "def total(input):\n",
    "    res = 0\n",
    "    for value in input:\n",
    "        res += value\n",
    "    return value"
   ]
  },
  {
   "cell_type": "code",
   "execution_count": 5,
   "id": "hungarian-clerk",
   "metadata": {},
   "outputs": [
    {
     "name": "stdout",
     "output_type": "stream",
     "text": [
      "Loss on testing set: 0.02180846453459351\n"
     ]
    }
   ],
   "source": [
    "print(\"Loss on testing set: \" + str(total(loss) / len(loss)))"
   ]
  },
  {
   "cell_type": "code",
   "execution_count": 6,
   "id": "noble-resistance",
   "metadata": {},
   "outputs": [],
   "source": [
    "features = [\"Log GDP per capita,Social support\",\"Healthy life expectancy at birth\",\"Freedom to make life choices\",\"Generosity\",\"Perceptions of corruption\",\"Positive affect\",\"Negative affect\"]\n",
    "\n",
    "# Create tree dot data\n",
    "\n",
    "decision_tree = (tree.export_graphviz(regressor[0], out_file=None, feature_names = features,\n",
    "                                    filled=True))"
   ]
  },
  {
   "cell_type": "code",
   "execution_count": 7,
   "id": "established-volunteer",
   "metadata": {},
   "outputs": [
    {
     "data": {
      "text/plain": [
       "'decision_tree.svg'"
      ]
     },
     "execution_count": 7,
     "metadata": {},
     "output_type": "execute_result"
    }
   ],
   "source": [
    "# Render a single decision tree\n",
    "graph = graphviz.Source(decision_tree, format=\"png\") \n",
    "graph.format = 'svg'\n",
    "graph.render(\"decision_tree\")"
   ]
  }
 ],
 "metadata": {
  "kernelspec": {
   "display_name": "Python 3",
   "language": "python",
   "name": "python3"
  },
  "language_info": {
   "codemirror_mode": {
    "name": "ipython",
    "version": 3
   },
   "file_extension": ".py",
   "mimetype": "text/x-python",
   "name": "python",
   "nbconvert_exporter": "python",
   "pygments_lexer": "ipython3",
   "version": "3.9.5"
  }
 },
 "nbformat": 4,
 "nbformat_minor": 5
}
