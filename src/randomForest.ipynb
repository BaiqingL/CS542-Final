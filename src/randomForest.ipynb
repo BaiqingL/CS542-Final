{
 "cells": [
  {
   "cell_type": "code",
   "execution_count": 1,
   "id": "complimentary-cocktail",
   "metadata": {},
   "outputs": [],
   "source": [
    "# Make needed imports\n",
    "import numpy as np\n",
    "import matplotlib.pyplot as plt\n",
    "import pandas as pd\n",
    "import math\n",
    "import graphviz\n",
    "from sklearn import tree\n",
    "from sklearn.ensemble import RandomForestRegressor\n",
    "from sklearn.metrics import r2_score,mean_squared_error"
   ]
  },
  {
   "cell_type": "code",
   "execution_count": 2,
   "id": "rotary-cedar",
   "metadata": {},
   "outputs": [],
   "source": [
    "# Load train and testing data\n",
    "training_data = pd.read_pickle(\"train.pkl\")\n",
    "testing_data = pd.read_pickle(\"test.pkl\")"
   ]
  },
  {
   "cell_type": "code",
   "execution_count": 3,
   "id": "compatible-lindsay",
   "metadata": {},
   "outputs": [],
   "source": [
    "# Seperate training X and Y values\n",
    "train_X = training_data.iloc[:, 2:10].values\n",
    "train_Y = training_data.iloc[:, 1].values"
   ]
  },
  {
   "cell_type": "code",
   "execution_count": 4,
   "id": "sapphire-commercial",
   "metadata": {},
   "outputs": [],
   "source": [
    "regressor = RandomForestRegressor(n_estimators = 300, max_leaf_nodes = 150, bootstrap = True)\n",
    "  \n",
    "# Fit the regressor with x and y data\n",
    "regressor.fit(train_X, train_Y) \n",
    "\n",
    "# Load testing values\n",
    "test_X = testing_data.iloc[:, 2:10].values\n",
    "test_Y = testing_data.iloc[:, 1].values\n",
    "\n",
    "# Predict with testing X\n",
    "predict_Y = regressor.predict(test_X)\n",
    "\n",
    "# Compute loss\n",
    "loss = []\n",
    "for i in range(len(test_Y)):\n",
    "    dif = (abs(float(test_Y[i] - predict_Y[i])) / float(test_Y[i])) * 100 # we want to calculate the percentage.\n",
    "    loss.append(dif)\n",
    "\n",
    "def total(input):\n",
    "    res = 0\n",
    "    for value in input:\n",
    "        res += value\n",
    "    return value"
   ]
  },
  {
   "cell_type": "code",
   "execution_count": 5,
   "id": "renewable-packing",
   "metadata": {},
   "outputs": [
    {
     "name": "stdout",
     "output_type": "stream",
     "text": [
      "Loss percentage on testing set: 0.03346333576518596\n",
      "MSE loss on testing set: 0.19414781989656124\n"
     ]
    }
   ],
   "source": [
    "print(\"Loss percentage on testing set: \" + str(total(loss) / len(loss)))\n",
    "print(\"MSE loss on testing set: \" + str(mean_squared_error(test_Y, predict_Y)))"
   ]
  },
  {
   "cell_type": "code",
   "execution_count": 6,
   "id": "prescribed-hayes",
   "metadata": {},
   "outputs": [],
   "source": [
    "features = [\"Log GDP per capita\",\"Social support\",\"Healthy life expectancy at birth\",\"Freedom to make life choices\",\"Generosity\",\"Perceptions of corruption\",\"Positive affect\",\"Negative affect\"]\n",
    "\n",
    "# Create tree dot data\n",
    "\n",
    "decision_tree = (tree.export_graphviz(regressor[0], out_file=None, feature_names = features,\n",
    "                                    filled=True))"
   ]
  },
  {
   "cell_type": "code",
   "execution_count": 7,
   "id": "powered-lebanon",
   "metadata": {},
   "outputs": [
    {
     "data": {
      "text/plain": [
       "'decision_tree.svg'"
      ]
     },
     "execution_count": 7,
     "metadata": {},
     "output_type": "execute_result"
    }
   ],
   "source": [
    "# Render a single decision tree\n",
    "graph = graphviz.Source(decision_tree, format=\"png\") \n",
    "graph.format = 'svg'\n",
    "graph.render(\"decision_tree\")"
   ]
  },
  {
   "cell_type": "code",
   "execution_count": 8,
   "id": "greater-driving",
   "metadata": {},
   "outputs": [
    {
     "name": "stdout",
     "output_type": "stream",
     "text": [
      "Log GDP per capita                   9.368453\n",
      "Social support                       0.812552\n",
      "Healthy life expectancy at birth    63.359374\n",
      "Freedom to make life choices         0.742558\n",
      "Generosity                           0.000103\n",
      "Perceptions of corruption            0.747125\n",
      "Positive affect                      0.710003\n",
      "Negative affect                      0.268544\n",
      "dtype: float64\n",
      "Predicted world happiness: 5.288594182125169\n",
      "Actual world happiness: 5.46670548999487\n"
     ]
    }
   ],
   "source": [
    "world_happiness = pd.read_csv ('../data/world-happiness-report.csv')\n",
    "world_average = world_happiness.mean()[2:]\n",
    "print(world_average)\n",
    "print(\"Predicted world happiness: \" + str(regressor.predict([world_average])[0]))\n",
    "print(\"Actual world happiness: \" + str(world_happiness.get(\"Life Ladder\").mean()))"
   ]
  },
  {
   "cell_type": "code",
   "execution_count": 9,
   "id": "religious-anatomy",
   "metadata": {},
   "outputs": [
    {
     "name": "stdout",
     "output_type": "stream",
     "text": [
      "Best way to improve the world by 1%: Social support\n"
     ]
    }
   ],
   "source": [
    "# Improvement via 1%\n",
    "max_value = 0\n",
    "index = 0\n",
    "for i in range(len(world_average)):\n",
    "    new_world_average = world_average.copy()\n",
    "    new_world_average[i] *= 1.01\n",
    "    new_happiness = regressor.predict([new_world_average])[0]\n",
    "    if new_happiness > max_value:\n",
    "        max_value = new_happiness\n",
    "        index = i\n",
    "print(\"Best way to improve the world by 1%: \" + world_happiness.columns[3+index])"
   ]
  },
  {
   "cell_type": "code",
   "execution_count": 10,
   "id": "public-amino",
   "metadata": {},
   "outputs": [
    {
     "name": "stdout",
     "output_type": "stream",
     "text": [
      "Best way to improve the world by 10%: Log GDP per capita\n"
     ]
    }
   ],
   "source": [
    "# Improvement via 10%\n",
    "max_value = 0\n",
    "index = 0\n",
    "for i in range(len(world_average)):\n",
    "    new_world_average = world_average.copy()\n",
    "    new_world_average[i] *= 1.1\n",
    "    new_happiness = regressor.predict([new_world_average])[0]\n",
    "    if new_happiness > max_value:\n",
    "        max_value = new_happiness\n",
    "        index = i\n",
    "print(\"Best way to improve the world by 10%: \" + world_happiness.columns[3+index])"
   ]
  },
  {
   "cell_type": "code",
   "execution_count": 11,
   "id": "communist-nitrogen",
   "metadata": {},
   "outputs": [
    {
     "name": "stdout",
     "output_type": "stream",
     "text": [
      "Best way to improve the world by 50%: Log GDP per capita\n"
     ]
    }
   ],
   "source": [
    "# Improvement via 50%\n",
    "max_value = 0\n",
    "index = 0\n",
    "for i in range(len(world_average)):\n",
    "    new_world_average = world_average.copy()\n",
    "    new_world_average[i] *= 1.5\n",
    "    new_happiness = regressor.predict([new_world_average])[0]\n",
    "    if new_happiness > max_value:\n",
    "        max_value = new_happiness\n",
    "        index = i\n",
    "print(\"Best way to improve the world by 50%: \" + world_happiness.columns[3+index])"
   ]
  },
  {
   "cell_type": "code",
   "execution_count": 12,
   "id": "dated-cornwall",
   "metadata": {},
   "outputs": [
    {
     "name": "stdout",
     "output_type": "stream",
     "text": [
      "Best way to improve the world by 100%: Log GDP per capita\n"
     ]
    }
   ],
   "source": [
    "# Improvement via 100%\n",
    "max_value = 0\n",
    "index = 0\n",
    "for i in range(len(world_average)):\n",
    "    new_world_average = world_average.copy()\n",
    "    new_world_average[i] *= 2\n",
    "    new_happiness = regressor.predict([new_world_average])[0]\n",
    "    if new_happiness > max_value:\n",
    "        max_value = new_happiness\n",
    "        index = i\n",
    "print(\"Best way to improve the world by 100%: \" + world_happiness.columns[3+index])"
   ]
  },
  {
   "cell_type": "code",
   "execution_count": 13,
   "id": "renewable-syndication",
   "metadata": {},
   "outputs": [
    {
     "name": "stdout",
     "output_type": "stream",
     "text": [
      "We need to increase Log GDP per capita by 3%\n",
      "We need to increase Social support by 2%\n",
      "We need to increase Healthy life expectancy at birth by 6%\n",
      "We need to increase Freedom to make life choices by 3%\n",
      "We need to increase Generosity by 100%\n",
      "We need to increase Perceptions of corruption by 19%\n"
     ]
    }
   ],
   "source": [
    "target_happiness = 5.3\n",
    "feature_improvement_need = []\n",
    "improvement = 1\n",
    "prev_happiness = 0\n",
    "iters = 0\n",
    "\n",
    "for i in range(len(world_average) - 1):\n",
    "    new_world_average = world_average.copy()\n",
    "    new_happiness = regressor.predict([new_world_average])[0]\n",
    "    prev_happiness = new_happiness\n",
    "    while (new_happiness < target_happiness and iters < 100):\n",
    "        new_world_average[i] *= improvement\n",
    "        # Scale up 1% each time\n",
    "        improvement += 0.01\n",
    "        new_happiness = regressor.predict([new_world_average])[0]\n",
    "        new_world_average = world_average.copy()\n",
    "        prev_happiness = new_happiness\n",
    "        iters += 1\n",
    "    feature_improvement_need.append(improvement)\n",
    "    improvement = 1\n",
    "    iters = 0\n",
    "for i in range(len(feature_improvement_need) - 1):\n",
    "    print(\"We need to increase \" + world_happiness.columns[3+i] + \" by \" + str(int((feature_improvement_need[i]-1)*100)) + \"%\")"
   ]
  }
 ],
 "metadata": {
  "kernelspec": {
   "display_name": "Python 3",
   "language": "python",
   "name": "python3"
  },
  "language_info": {
   "codemirror_mode": {
    "name": "ipython",
    "version": 3
   },
   "file_extension": ".py",
   "mimetype": "text/x-python",
   "name": "python",
   "nbconvert_exporter": "python",
   "pygments_lexer": "ipython3",
   "version": "3.9.5"
  }
 },
 "nbformat": 4,
 "nbformat_minor": 5
}
